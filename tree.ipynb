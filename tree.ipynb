{
 "cells": [
  {
   "cell_type": "code",
   "execution_count": 1,
   "metadata": {},
   "outputs": [],
   "source": [
    "class Node:\n",
    "    \n",
    "    def __init__(self,data):\n",
    "        self.data=data\n",
    "        self.left=None\n",
    "        self.right=None\n",
    "        \n",
    "    def insert(self,data):\n",
    "        if data < self.data:\n",
    "            if self.left is None:\n",
    "                self.left=Node(data)\n",
    "                \n",
    "            else:\n",
    "                self.left.insert(data)\n",
    "        elif data > self.data:\n",
    "            if self.right is None:\n",
    "                self.right=Node(data)\n",
    "            else:\n",
    "                self.right.insert(data)\n",
    "                \n",
    "        else:\n",
    "            self.data=data\n",
    "            \n",
    "    def printtree(self):\n",
    "        if self.left:\n",
    "            self.left.printtree()\n",
    "        print(self.data)\n",
    "        if self.right:\n",
    "            self.right.printtree()\n",
    "            "
   ]
  },
  {
   "cell_type": "code",
   "execution_count": 2,
   "metadata": {},
   "outputs": [],
   "source": [
    "root=Node(12)"
   ]
  },
  {
   "cell_type": "code",
   "execution_count": 3,
   "metadata": {},
   "outputs": [],
   "source": [
    "root.insert(6)"
   ]
  },
  {
   "cell_type": "code",
   "execution_count": 4,
   "metadata": {},
   "outputs": [],
   "source": [
    "root.insert(10)"
   ]
  },
  {
   "cell_type": "code",
   "execution_count": 5,
   "metadata": {},
   "outputs": [],
   "source": [
    "root.insert(14)"
   ]
  },
  {
   "cell_type": "code",
   "execution_count": 6,
   "metadata": {},
   "outputs": [],
   "source": [
    "root.insert(3)"
   ]
  },
  {
   "cell_type": "code",
   "execution_count": 7,
   "metadata": {},
   "outputs": [
    {
     "name": "stdout",
     "output_type": "stream",
     "text": [
      "3\n",
      "6\n",
      "10\n",
      "12\n",
      "14\n"
     ]
    }
   ],
   "source": [
    "root.printtree()"
   ]
  },
  {
   "cell_type": "markdown",
   "metadata": {},
   "source": [
    "### implentation of tree grom array element"
   ]
  },
  {
   "cell_type": "code",
   "execution_count": 7,
   "metadata": {},
   "outputs": [],
   "source": [
    "class NewNode:\n",
    "    \n",
    "    def __init__(self,data):\n",
    "        self.data=data\n",
    "        self.left=None\n",
    "        self.right=None\n",
    "\n",
    "def insertLevelorder(arr,root,i,n):\n",
    "    if (i < n):\n",
    "        temp=NewNode(arr[i])\n",
    "        root=temp\n",
    "                \n",
    "        root.left=insertLevelorder(arr,root.left, 2*i+1,n)\n",
    "                \n",
    "                \n",
    "        root.right=insertLevelorder(arr, root.right, 2*i+2, n)\n",
    "                \n",
    "                \n",
    "    return root\n",
    "                 \n",
    "                 \n",
    "                 \n",
    "                 \n",
    "                 "
   ]
  },
  {
   "cell_type": "code",
   "execution_count": 9,
   "metadata": {},
   "outputs": [],
   "source": [
    "arr=[1,2,3,4,5,6]\n",
    "root=None\n",
    "root=insertLevelorder(arr,root,0,len(arr))"
   ]
  },
  {
   "cell_type": "code",
   "execution_count": 10,
   "metadata": {},
   "outputs": [],
   "source": [
    "def inorder(root):\n",
    "    if root!=None:\n",
    "        inorder(root.left)\n",
    "        print(root.data, end=' ')\n",
    "        inorder(root.right)"
   ]
  },
  {
   "cell_type": "code",
   "execution_count": 11,
   "metadata": {},
   "outputs": [
    {
     "name": "stdout",
     "output_type": "stream",
     "text": [
      "4 2 5 1 6 3 "
     ]
    }
   ],
   "source": [
    "inorder(root)"
   ]
  },
  {
   "cell_type": "markdown",
   "metadata": {},
   "source": [
    "## Insertion in a Binary Tree in level order"
   ]
  },
  {
   "cell_type": "code",
   "execution_count": 78,
   "metadata": {},
   "outputs": [],
   "source": [
    "class NewNode:\n",
    "    \n",
    "    def __init__(self, data):\n",
    "        self.data=data\n",
    "        self.left=None\n",
    "        self.right=None\n",
    "        \n",
    "def inorder(root):\n",
    "    if root!=None:\n",
    "        inorder(root.left)\n",
    "        print(root.data, end=' ')\n",
    "        inorder(root.right)        \n",
    "        \n",
    "def insert(root,data):\n",
    "    q=[]\n",
    "    q.append(root)\n",
    "    while(len(q)):\n",
    "        root=q[0]\n",
    "        q.pop(0)\n",
    "        if not root.left:\n",
    "            root.left=NewNode(data)\n",
    "            break\n",
    "            \n",
    "        else:\n",
    "            q.append(root.left)\n",
    "            \n",
    "        if not root.right:\n",
    "            root.right=NewNode(data)\n",
    "            break\n",
    "          \n",
    "        else:\n",
    "            q.append(root.right)\n",
    "            \n",
    "            "
   ]
  },
  {
   "cell_type": "code",
   "execution_count": 79,
   "metadata": {},
   "outputs": [
    {
     "name": "stdout",
     "output_type": "stream",
     "text": [
      "7 12 10 15 9 8 "
     ]
    }
   ],
   "source": [
    "if __name__=='__main__':\n",
    "    \n",
    "    root=NewNode(10)\n",
    "    root.left=NewNode(12)\n",
    "    root.left.left=NewNode(7)\n",
    "    root.right=NewNode(9)\n",
    "    root.right.left=NewNode(15)\n",
    "    root.right.right=NewNode(8)\n",
    "    \n",
    "    inorder(root)\n",
    "    \n",
    "    "
   ]
  },
  {
   "cell_type": "code",
   "execution_count": 80,
   "metadata": {},
   "outputs": [],
   "source": [
    "data=11\n",
    "insert(root,data)"
   ]
  },
  {
   "cell_type": "code",
   "execution_count": 81,
   "metadata": {},
   "outputs": [
    {
     "name": "stdout",
     "output_type": "stream",
     "text": [
      "7 12 11 10 15 9 8 "
     ]
    }
   ],
   "source": [
    "inorder(root)"
   ]
  },
  {
   "cell_type": "markdown",
   "metadata": {},
   "source": [
    "## Height of Tree"
   ]
  },
  {
   "cell_type": "code",
   "execution_count": 5,
   "metadata": {},
   "outputs": [],
   "source": [
    "def Height(root):   ## here height is Number of nodes on the longest path from the root to the deepest node. (O(n))\n",
    "    if root is None:\n",
    "        return 0\n",
    "    lheight=Height(root.left)\n",
    "    rheight=Height(root.right)\n",
    "    if lheight > rheight:\n",
    "         return 1+lheight\n",
    "    else:\n",
    "        return 1+rheight"
   ]
  },
  {
   "cell_type": "code",
   "execution_count": 6,
   "metadata": {},
   "outputs": [
    {
     "data": {
      "text/plain": [
       "3"
      ]
     },
     "execution_count": 6,
     "metadata": {},
     "output_type": "execute_result"
    }
   ],
   "source": [
    "Height(root)"
   ]
  },
  {
   "cell_type": "code",
   "execution_count": 7,
   "metadata": {},
   "outputs": [
    {
     "name": "stdout",
     "output_type": "stream",
     "text": [
      "7 12 11 10 15 9 8 "
     ]
    }
   ],
   "source": [
    "inorder(root)"
   ]
  },
  {
   "cell_type": "markdown",
   "metadata": {},
   "source": [
    "### Traversing a tree through level order"
   ]
  },
  {
   "cell_type": "markdown",
   "metadata": {},
   "source": [
    "###### Method 1----O(n*2)"
   ]
  },
  {
   "cell_type": "code",
   "execution_count": 8,
   "metadata": {},
   "outputs": [],
   "source": [
    "def PrintLevelOrder(root):\n",
    "    h=Height(root)\n",
    "    for i in range (1,h+1):\n",
    "        PrintGivenLevel(root,i)\n",
    "\n",
    "def PrintGivenLevel(root,level):\n",
    "    if root is None:\n",
    "        return\n",
    "    if level==1:\n",
    "        print(root.data, end=' ')\n",
    "        \n",
    "    elif level>1:\n",
    "        PrintGivenLevel(root.left, level-1)\n",
    "        PrintGivenLevel(root.right, level-1)"
   ]
  },
  {
   "cell_type": "code",
   "execution_count": 9,
   "metadata": {},
   "outputs": [
    {
     "name": "stdout",
     "output_type": "stream",
     "text": [
      "10 12 9 7 11 15 8 "
     ]
    }
   ],
   "source": [
    "PrintLevelOrder(root)"
   ]
  },
  {
   "cell_type": "markdown",
   "metadata": {},
   "source": [
    "###### Method 2---O(n) using queue(first the node is visted and then its node are put into queue)"
   ]
  },
  {
   "cell_type": "code",
   "execution_count": 76,
   "metadata": {},
   "outputs": [],
   "source": [
    "def PrintLevelOrder(root):\n",
    "    if root is None:\n",
    "        return \n",
    "    queue=[]\n",
    "    queue.append(root)\n",
    "    while(len(queue)):\n",
    "        print(queue[0].data, end=' ')\n",
    "        node=queue.pop(0)\n",
    "        if node.left is not None:\n",
    "            queue.append(node.left)\n",
    "        if node.right is not None:\n",
    "            queue.append(node.right)"
   ]
  },
  {
   "cell_type": "code",
   "execution_count": 77,
   "metadata": {},
   "outputs": [
    {
     "name": "stdout",
     "output_type": "stream",
     "text": [
      "10 12 9 7 15 8 "
     ]
    }
   ],
   "source": [
    "PrintLevelOrder(root)"
   ]
  },
  {
   "cell_type": "markdown",
   "metadata": {},
   "source": [
    "## Tree Traversal(preorder postorder, inorder)"
   ]
  },
  {
   "cell_type": "markdown",
   "metadata": {},
   "source": [
    "###### Inorder"
   ]
  },
  {
   "cell_type": "code",
   "execution_count": 12,
   "metadata": {},
   "outputs": [],
   "source": [
    "def printInorder(root):\n",
    "    if root:\n",
    "        printInorder(root.left)\n",
    "        \n",
    "        print(root.data, end=' ')\n",
    "        \n",
    "        printInorder(root.right)"
   ]
  },
  {
   "cell_type": "code",
   "execution_count": 13,
   "metadata": {},
   "outputs": [
    {
     "name": "stdout",
     "output_type": "stream",
     "text": [
      "7 12 11 10 15 9 8 "
     ]
    }
   ],
   "source": [
    "printInorder(root)"
   ]
  },
  {
   "cell_type": "markdown",
   "metadata": {},
   "source": [
    "###### PostOrder"
   ]
  },
  {
   "cell_type": "code",
   "execution_count": 14,
   "metadata": {},
   "outputs": [],
   "source": [
    "def printPostorder(root):\n",
    "    if root:\n",
    "        printPostorder(root.left)\n",
    "            \n",
    "        printPostorder(root.right)\n",
    "        \n",
    "        print(root.data, end=' ')"
   ]
  },
  {
   "cell_type": "code",
   "execution_count": 15,
   "metadata": {},
   "outputs": [
    {
     "name": "stdout",
     "output_type": "stream",
     "text": [
      "7 11 12 15 8 9 10 "
     ]
    }
   ],
   "source": [
    "printPostorder(root)"
   ]
  },
  {
   "cell_type": "markdown",
   "metadata": {},
   "source": [
    "###### Preorder"
   ]
  },
  {
   "cell_type": "code",
   "execution_count": 19,
   "metadata": {},
   "outputs": [],
   "source": [
    "def PrintPreOrder(root,d):\n",
    "    if root:\n",
    "        print(2*d*'--' +str(root.data))\n",
    "        PrintPreOrder(root.left, d+1)\n",
    "        PrintPreOrder(root.right,d+1)"
   ]
  },
  {
   "cell_type": "code",
   "execution_count": 20,
   "metadata": {},
   "outputs": [
    {
     "name": "stdout",
     "output_type": "stream",
     "text": [
      "10\n",
      "----12\n",
      "--------7\n",
      "--------11\n",
      "----9\n",
      "--------15\n",
      "--------8\n"
     ]
    }
   ],
   "source": [
    "PrintPreOrder(root,0)"
   ]
  },
  {
   "cell_type": "code",
   "execution_count": 21,
   "metadata": {},
   "outputs": [],
   "source": [
    "## indentation output"
   ]
  },
  {
   "cell_type": "markdown",
   "metadata": {},
   "source": [
    "## Expression Tree\n",
    "        "
   ]
  },
  {
   "cell_type": "markdown",
   "metadata": {},
   "source": [
    "###### postfix expression to expression\\tree"
   ]
  },
  {
   "cell_type": "code",
   "execution_count": 7,
   "metadata": {},
   "outputs": [
    {
     "name": "stdout",
     "output_type": "stream",
     "text": [
      "infix expression is \n",
      "a + b - e * f * g "
     ]
    }
   ],
   "source": [
    "class Et:\n",
    "    def __init__(self,value):\n",
    "        self.value=value\n",
    "        self.left=None\n",
    "        self.right=None\n",
    "       \n",
    "    \n",
    "def isOperator(c):\n",
    "        if (c=='+' or c=='-' or c=='*'or c=='/' or  c=='^'):\n",
    "            return True\n",
    "        else:\n",
    "            return False\n",
    "        \n",
    "def inOrder(t):\n",
    "        if t is not None:\n",
    "            inOrder(t.left)\n",
    "            print(t.value, end=' ')\n",
    "            inOrder(t.right)\n",
    "\n",
    "def ConstructTree(postfix):\n",
    "        stack=[]\n",
    "        for char in postfix:\n",
    "            if not isOperator(char):\n",
    "                t=Et(char)\n",
    "                stack.append(t)\n",
    "                \n",
    "            else:\n",
    "                t=Et(char)\n",
    "                t1=stack.pop()\n",
    "                t2=stack.pop()\n",
    "                t.right=t1\n",
    "                t.left=t2\n",
    "                stack.append(t)\n",
    "                \n",
    "        t=stack.pop()\n",
    "        return t\n",
    "    \n",
    "postfix=\"ab+ef*g*-\"\n",
    "r=ConstructTree(postfix)\n",
    "print(\"infix expression is \")\n",
    "inOrder(r)\n",
    "        "
   ]
  },
  {
   "cell_type": "markdown",
   "metadata": {},
   "source": [
    "#### Evaluation Of Expression Tree"
   ]
  },
  {
   "cell_type": "code",
   "execution_count": 28,
   "metadata": {},
   "outputs": [],
   "source": [
    "def evaluateExpressionTree(root):\n",
    "    if root is None:\n",
    "        return 0\n",
    "    if root.left is None and root.right is None:\n",
    "        return(root.value)\n",
    "    \n",
    "    left_sum=int(evaluateExpressionTree(root.left))\n",
    "    right_sum=int(evaluateExpressionTree(root.right))\n",
    "    \n",
    "    if root.value=='+':\n",
    "        return left_sum +right_sum\n",
    "    elif root.value=='-':\n",
    "        return left_sum- right_sum\n",
    "    elif root.value=='*':\n",
    "        return left_sum * right_sum\n",
    "    elif root.value=='/':\n",
    "        return left_sum/ right_sum\n",
    "    \n",
    "    else:\n",
    "        return left_sum^ right_sum\n",
    "        \n",
    "    \n",
    "    \n",
    "    \n",
    "    "
   ]
  },
  {
   "cell_type": "code",
   "execution_count": 29,
   "metadata": {},
   "outputs": [],
   "source": [
    "postfix=\"45+12*3*-\""
   ]
  },
  {
   "cell_type": "code",
   "execution_count": 30,
   "metadata": {},
   "outputs": [
    {
     "name": "stdout",
     "output_type": "stream",
     "text": [
      "infix expression is \n",
      "4 + 5 - 1 * 2 * 3 "
     ]
    }
   ],
   "source": [
    "r=ConstructTree(postfix)\n",
    "print(\"infix expression is \")\n",
    "inOrder(r)\n",
    "        "
   ]
  },
  {
   "cell_type": "code",
   "execution_count": 31,
   "metadata": {},
   "outputs": [
    {
     "data": {
      "text/plain": [
       "3"
      ]
     },
     "execution_count": 31,
     "metadata": {},
     "output_type": "execute_result"
    }
   ],
   "source": [
    "evaluateExpressionTree(r)"
   ]
  },
  {
   "cell_type": "markdown",
   "metadata": {},
   "source": [
    "### NARISHMHA KARUMANCHI BOOK PROBLEMS"
   ]
  },
  {
   "cell_type": "markdown",
   "metadata": {},
   "source": [
    "###  p-1 Finding max element in binary tree"
   ]
  },
  {
   "cell_type": "code",
   "execution_count": 59,
   "metadata": {},
   "outputs": [],
   "source": [
    "def FindMax(root):\n",
    "    max=0\n",
    "    \n",
    "    if root is not None:\n",
    "        root_value=root.data\n",
    "        left_=FindMax(root.left)\n",
    "        right_=FindMax(root.right)\n",
    "        \n",
    "        if left_>right_:\n",
    "            max=left_\n",
    "        else:\n",
    "            max=right_\n",
    "        if root_value>max:\n",
    "            max=root_value\n",
    "    return max        "
   ]
  },
  {
   "cell_type": "code",
   "execution_count": 60,
   "metadata": {},
   "outputs": [
    {
     "name": "stdout",
     "output_type": "stream",
     "text": [
      "7 12 10 15 9 8 "
     ]
    }
   ],
   "source": [
    "if __name__=='__main__':\n",
    "    \n",
    "    root=NewNode(10)\n",
    "    root.left=NewNode(12)\n",
    "    root.left.left=NewNode(7)\n",
    "    root.right=NewNode(9)\n",
    "    root.right.left=NewNode(15)\n",
    "    root.right.right=NewNode(8)\n",
    "    \n",
    "    inorder(root)\n",
    "    "
   ]
  },
  {
   "cell_type": "code",
   "execution_count": 61,
   "metadata": {},
   "outputs": [
    {
     "data": {
      "text/plain": [
       "15"
      ]
     },
     "execution_count": 61,
     "metadata": {},
     "output_type": "execute_result"
    }
   ],
   "source": [
    "FindMax(root)  #O(n) time and O(n) space"
   ]
  },
  {
   "cell_type": "markdown",
   "metadata": {},
   "source": [
    "### p-8 Printing the level order in reverse order"
   ]
  },
  {
   "cell_type": "markdown",
   "metadata": {},
   "source": [
    "eg      1          output 4 5 6 7 2 3 1\n",
    "      2   3\n",
    "     4 5 6 7"
   ]
  },
  {
   "cell_type": "code",
   "execution_count": 82,
   "metadata": {},
   "outputs": [],
   "source": [
    "def LevelOrderReverse(root):\n",
    "    S=[]\n",
    "    Q=[]\n",
    "    if root is None:\n",
    "        return \n",
    "    Q.append(root)\n",
    "    while(len(Q)):\n",
    "        temp=Q.pop(0)\n",
    "        if temp.right:          # here we have use queue Q in order to traverse each element without recursion\n",
    "            Q.append(temp.right)\n",
    "        \n",
    "        if temp.left:\n",
    "            Q.append(temp.left)\n",
    "        \n",
    "        S.append(temp)\n",
    "        \n",
    "    while(len(S)):\n",
    "        print(S.pop(-1).data, end=' ')\n",
    "        "
   ]
  },
  {
   "cell_type": "code",
   "execution_count": 83,
   "metadata": {},
   "outputs": [
    {
     "name": "stdout",
     "output_type": "stream",
     "text": [
      "7 11 15 8 12 9 10 "
     ]
    }
   ],
   "source": [
    "LevelOrderReverse(root)"
   ]
  },
  {
   "cell_type": "markdown",
   "metadata": {},
   "source": [
    "        10    \n",
    "      12    9\n",
    "     7  11 15 8"
   ]
  },
  {
   "cell_type": "code",
   "execution_count": null,
   "metadata": {},
   "outputs": [],
   "source": []
  }
 ],
 "metadata": {
  "kernelspec": {
   "display_name": "Python 3",
   "language": "python",
   "name": "python3"
  },
  "language_info": {
   "codemirror_mode": {
    "name": "ipython",
    "version": 3
   },
   "file_extension": ".py",
   "mimetype": "text/x-python",
   "name": "python",
   "nbconvert_exporter": "python",
   "pygments_lexer": "ipython3",
   "version": "3.6.7"
  }
 },
 "nbformat": 4,
 "nbformat_minor": 2
}
