{
 "cells": [
  {
   "cell_type": "markdown",
   "metadata": {},
   "source": [
    "# Dynamic Programming\n"
   ]
  },
  {
   "cell_type": "markdown",
   "metadata": {},
   "source": [
    "### Fibnocii series"
   ]
  },
  {
   "cell_type": "code",
   "execution_count": 4,
   "metadata": {},
   "outputs": [],
   "source": [
    "def fib(n):\n",
    "    f=[0]*(n+1)\n",
    "    if n==0:                         # space compexity O(n)\n",
    "                                     # Time Complexity O(n) \n",
    "        return 0\n",
    "    if n==1:\n",
    "        return 1\n",
    "    \n",
    "    f[0]=0\n",
    "        \n",
    "    f[1]=1\n",
    "    for i in range(2,n+1):\n",
    "        if f[n-1]==0:\n",
    "            f[n-1]=fib(n-1)\n",
    "        if f[n-2]==0:\n",
    "            f[n-2]=fib(n-2)\n",
    "        f[n]=f[n-1]+f[n-2]\n",
    "    return f[n]    \n",
    "    \n",
    "        "
   ]
  },
  {
   "cell_type": "code",
   "execution_count": 5,
   "metadata": {},
   "outputs": [
    {
     "data": {
      "text/plain": [
       "34"
      ]
     },
     "execution_count": 5,
     "metadata": {},
     "output_type": "execute_result"
    }
   ],
   "source": [
    "fib(9)"
   ]
  },
  {
   "cell_type": "markdown",
   "metadata": {},
   "source": [
    "###### space optimized solution"
   ]
  },
  {
   "cell_type": "code",
   "execution_count": 8,
   "metadata": {},
   "outputs": [],
   "source": [
    "def fib(n):\n",
    "    if n==0 or n==1:\n",
    "        return n\n",
    "    a=0\n",
    "    b=1\n",
    "    for i in range(2,n+1):\n",
    "        c=a+b\n",
    "        a,b=b,c\n",
    "    return c    \n",
    "    \n",
    "    "
   ]
  },
  {
   "cell_type": "code",
   "execution_count": 9,
   "metadata": {},
   "outputs": [
    {
     "data": {
      "text/plain": [
       "34"
      ]
     },
     "execution_count": 9,
     "metadata": {},
     "output_type": "execute_result"
    }
   ],
   "source": [
    "fib(9)         # Time=O(n)\n",
    "                # space=O(1)"
   ]
  },
  {
   "cell_type": "markdown",
   "metadata": {},
   "source": [
    "## Rod cutting problem (Top Down Approach)\n",
    "###### In this we have to cut a rod of size n inches into 0 or more pieces so that we have max cost. Cost for each each inches is given in array p"
   ]
  },
  {
   "cell_type": "code",
   "execution_count": 2,
   "metadata": {},
   "outputs": [],
   "source": [
    "def Rodcutting(p,n):\n",
    "    r=[-1]*(n+1)\n",
    "    return memorizedrodcutting(p,r,n)\n",
    "def memorizedrodcutting(p,r,n):\n",
    "    if r[n]>=0:\n",
    "        return r[n]\n",
    "    if n==0:\n",
    "        return 0\n",
    "    q=-1\n",
    "    for i in range(1,n+1):\n",
    "        q=max(q, p[i-1]+memorizedrodcutting(p,r,n-i))\n",
    "    r[n]=q\n",
    "    return q    "
   ]
  },
  {
   "cell_type": "code",
   "execution_count": 3,
   "metadata": {},
   "outputs": [
    {
     "data": {
      "text/plain": [
       "30"
      ]
     },
     "execution_count": 3,
     "metadata": {},
     "output_type": "execute_result"
    }
   ],
   "source": [
    "n=10\n",
    "p=[1,5,8,9,10,17,17,20,24,30]\n",
    "Rodcutting(p,n)\n",
    "\n",
    "# Time complexity 0(n2).\n"
   ]
  },
  {
   "cell_type": "markdown",
   "metadata": {},
   "source": [
    "### Bottom Top Approach"
   ]
  },
  {
   "cell_type": "code",
   "execution_count": 101,
   "metadata": {},
   "outputs": [],
   "source": [
    "def Rodscutting(p,n):\n",
    "    r=[-1]*(n+1)\n",
    "    s=[-1]*(n+1)\n",
    "    r[0]=0\n",
    "    for j in range(1,n+1):\n",
    "        q=-1\n",
    "        \n",
    "        for i in range(1,j+1):\n",
    "            \n",
    "            \n",
    "            if q<p[i-1]+r[j-i]:\n",
    "                q=p[i-1]+r[j-i]\n",
    "                s[j]=i    \n",
    "        r[j]=q\n",
    "    \n",
    "    print(\"revenue for rod length 1to n\")\n",
    "    print(r[1:])\n",
    "    print()\n",
    "    print(\"optimal size of the first piece to cuttoff\")\n",
    "    print(s[1:])\n",
    "            \n",
    "        "
   ]
  },
  {
   "cell_type": "code",
   "execution_count": 102,
   "metadata": {},
   "outputs": [
    {
     "name": "stdout",
     "output_type": "stream",
     "text": [
      "revenue for rod length 1to n\n",
      "[1, 5, 8, 10, 13, 17, 18, 22, 25, 30]\n",
      "\n",
      "optimal size of the first piece to cuttoff\n",
      "[1, 2, 3, 2, 2, 6, 1, 2, 3, 10]\n"
     ]
    }
   ],
   "source": [
    "Rodscutting(p,n)"
   ]
  },
  {
   "cell_type": "markdown",
   "metadata": {},
   "source": [
    "## Longest Common Subsequence "
   ]
  },
  {
   "cell_type": "code",
   "execution_count": 5,
   "metadata": {},
   "outputs": [],
   "source": [
    "def LCS(X,Y):\n",
    "    m=len(X)\n",
    "    n=len(Y)\n",
    "    L=[[None]*(n+1) for i in range(m+1)]  #L[m][n] list to store values\n",
    "    for i in range(m+1):\n",
    "        for j in range(n+1):\n",
    "            if i==0 or j==0:\n",
    "                L[i][j]=0\n",
    "            elif X[i-1]==Y[j-1]:\n",
    "                L[i][j]=L[i-1][j-1]+1\n",
    "            else:\n",
    "                L[i][j]=max(L[i-1][j],L[i][j-1])\n",
    "    index=L[m][n]      # length of LCS\n",
    "    \n",
    "    # finding LCS\n",
    "    lcs = [\"\"] * (index) \n",
    "    \n",
    "    i=m\n",
    "    j=n\n",
    "    while i>0 and j>0:\n",
    "        if X[i-1]==Y[j-1]:\n",
    "            lcs[index-1]=X[i-1]\n",
    "            index-=1\n",
    "            i-=1\n",
    "            j-=1\n",
    "        elif L[i-1][j]>L[i][j-1]:\n",
    "            i-=1\n",
    "        else:\n",
    "            j-=1\n",
    "            \n",
    "    print(\"\".join(lcs))     "
   ]
  },
  {
   "cell_type": "code",
   "execution_count": 6,
   "metadata": {},
   "outputs": [
    {
     "name": "stdout",
     "output_type": "stream",
     "text": [
      "GTAB\n"
     ]
    }
   ],
   "source": [
    "X=\"AGGTAB\"          #O(n2)\n",
    "Y=\"GXTXAYB\"\n",
    "LCS(X,Y)"
   ]
  },
  {
   "cell_type": "markdown",
   "metadata": {},
   "source": [
    "#### 0/1 KnapSack PRoblem\n",
    "###### Given weights and values of n items, put these items in a knapsack of capacity W to get the maximum total value in the knapsack"
   ]
  },
  {
   "cell_type": "markdown",
   "metadata": {},
   "source": [
    "### Recursive approach(2^n)"
   ]
  },
  {
   "cell_type": "code",
   "execution_count": 18,
   "metadata": {},
   "outputs": [],
   "source": [
    "def RecKnapSack(wt,val,w,n):\n",
    "    if n==0 or w==0:\n",
    "        return 0\n",
    "    if (wt[n-1]> w): # not included\n",
    "        return RecKnapSack(wt,val,w,n-1)\n",
    "    else:\n",
    "        return max(val[n-1]+RecKnapSack(wt,val,w-wt[n-1], n-1), RecKnapSack(wt,val,w,n-1))"
   ]
  },
  {
   "cell_type": "code",
   "execution_count": 19,
   "metadata": {},
   "outputs": [
    {
     "name": "stdout",
     "output_type": "stream",
     "text": [
      "80\n"
     ]
    }
   ],
   "source": [
    "wt=[5,3,4,2]\n",
    "val=[60,50,70,30]\n",
    "W=5\n",
    "n=len(wt)\n",
    "print(RecKnapSack(wt, val, W,n))"
   ]
  },
  {
   "cell_type": "markdown",
   "metadata": {},
   "source": [
    "### Dynaming programming Approach(n*W)"
   ]
  },
  {
   "cell_type": "code",
   "execution_count": 20,
   "metadata": {},
   "outputs": [],
   "source": [
    "def KnapSack(wt,val,W):\n",
    "    n=len(wt)\n",
    "    K=[[0 for i in range(W+1)] for i in range (n+1)]\n",
    "    for i in range(n+1):\n",
    "        for w in range(W+1):\n",
    "            if i==0 or w==0:\n",
    "                pass\n",
    "            elif wt[i-1]<=w: # include , not include\n",
    "                K[i][w]=max(val[i-1]+K[i-1][w-wt[i-1]], K[i-1][w])\n",
    "            else:\n",
    "                K[i][w]=K[i-1][w]                # when weight is greater than max value than not included case\n",
    "                \n",
    "    print(K[n][W])\n",
    "    \n",
    "                "
   ]
  },
  {
   "cell_type": "code",
   "execution_count": 21,
   "metadata": {},
   "outputs": [
    {
     "name": "stdout",
     "output_type": "stream",
     "text": [
      "80\n"
     ]
    }
   ],
   "source": [
    "wt=[5,3,4,2]\n",
    "val=[60,50,70,30]\n",
    "W=5\n",
    "KnapSack(wt,val,W)"
   ]
  },
  {
   "cell_type": "markdown",
   "metadata": {},
   "source": [
    "## Fractional Knapsack problem\n",
    "##### Here ew  can choose value partially as well . TC=0(nlogn)"
   ]
  },
  {
   "cell_type": "code",
   "execution_count": 1,
   "metadata": {},
   "outputs": [],
   "source": [
    "class ItemValue:\n",
    "    def __init__(self, wt,val, index):\n",
    "        self.wt=wt\n",
    "        self.value=val\n",
    "        self.ind=index\n",
    "        self.cost=val//wt\n",
    "    def __lt__(self,other):\n",
    "        return self.cost<other.cost\n",
    "    \n",
    "def fractionalKnapSack(wt,val,W):\n",
    "    ival=[]\n",
    "    for i in range(len(wt)):\n",
    "        ival.append(ItemValue(wt[i],val[i],W))\n",
    "    ival.sort(reverse=True)\n",
    "    TotalValue=0\n",
    "    for i in ival:\n",
    "        curwt=int(i.wt)\n",
    "        curval=int(i.value)                     # W represent capacity\n",
    "        \n",
    "        if W-curwt>=0:\n",
    "            TotalValue+=curval\n",
    "            W-=curwt\n",
    "        else:\n",
    "            fraction=W/curwt\n",
    "            TotalValue+=curval*fraction\n",
    "            W=int(W-fraction*curwt) #termination condition when taken fraction of value\n",
    "            break\n",
    "    return TotalValue       \n",
    "            \n",
    "        \n"
   ]
  },
  {
   "cell_type": "code",
   "execution_count": 2,
   "metadata": {},
   "outputs": [],
   "source": [
    "wt = [10, 40, 20, 30] \n",
    "val = [60, 40, 100, 120] \n",
    "capacity = 50"
   ]
  },
  {
   "cell_type": "code",
   "execution_count": 3,
   "metadata": {},
   "outputs": [
    {
     "data": {
      "text/plain": [
       "240.0"
      ]
     },
     "execution_count": 3,
     "metadata": {},
     "output_type": "execute_result"
    }
   ],
   "source": [
    "fractionalKnapSack(wt,val,capacity)"
   ]
  },
  {
   "cell_type": "markdown",
   "metadata": {},
   "source": [
    "## Subset Sum problem\n",
    "###### Given a set of non-negative integers, and a value sum, determine if there is a subset of the given set with sum equal to given sum."
   ]
  },
  {
   "cell_type": "markdown",
   "metadata": {},
   "source": [
    "#### Recursive solution"
   ]
  },
  {
   "cell_type": "code",
   "execution_count": 13,
   "metadata": {},
   "outputs": [],
   "source": [
    "\n",
    "def issubsetsum(A,n,sum):\n",
    "    if sum==0:\n",
    "        \n",
    "        return True\n",
    "    \n",
    "    \n",
    "    if n==0 and sum!=0:\n",
    "        return False\n",
    "    if A[n-1]>sum:\n",
    "        return issubsetsum(A,n-1,sum)\n",
    "    return issubsetsum(A,n-1,sum) or issubsetsum(A,n-1,sum-A[n-1])\n",
    "        "
   ]
  },
  {
   "cell_type": "code",
   "execution_count": 9,
   "metadata": {},
   "outputs": [],
   "source": [
    "A=[3, 34, 4, 12, 5, 2] \n",
    "sum=9\n",
    "n=len(A)"
   ]
  },
  {
   "cell_type": "code",
   "execution_count": 26,
   "metadata": {},
   "outputs": [
    {
     "name": "stdout",
     "output_type": "stream",
     "text": [
      "True\n"
     ]
    }
   ],
   "source": [
    "Ans=issubsetsum(A,n,sum)\n",
    "Ans\n",
    "print(Ans)\n",
    "\n"
   ]
  },
  {
   "cell_type": "code",
   "execution_count": 16,
   "metadata": {},
   "outputs": [
    {
     "name": "stdout",
     "output_type": "stream",
     "text": [
      "found subset\n"
     ]
    }
   ],
   "source": [
    "if Ans:\n",
    "    print(\"found subset\")\n",
    "else:\n",
    "    print(\"no subset\")"
   ]
  },
  {
   "cell_type": "markdown",
   "metadata": {},
   "source": [
    "## dynamic programming approach"
   ]
  },
  {
   "cell_type": "code",
   "execution_count": 7,
   "metadata": {},
   "outputs": [],
   "source": [
    "\n",
    "def issubsetsum(A,n,sum):\n",
    "    subset=[[False for i in range(sum+1)] for i in range(n+1)]\n",
    "    for i in range(n+1):     # when sum =0 answer is true\n",
    "        subset[i][0]=True\n",
    "    for i in range(1,sum+1):  # when sum!=0 and n=0 ans is false\n",
    "        subset[0][i]=False\n",
    "    for i in range(1,n+1):\n",
    "        for j in range(1,sum+1):\n",
    "            if j<A[i-1]:\n",
    "                subset[i][j]=subset[i-1][j]\n",
    "            else:\n",
    "                subset[i][j]=subset[i-1][j] or subset[i-1][j-A[i-1]]\n",
    "    if subset[n][sum]:\n",
    "        return True\n",
    "    else:\n",
    "        return False\n",
    "        "
   ]
  },
  {
   "cell_type": "code",
   "execution_count": 10,
   "metadata": {},
   "outputs": [
    {
     "name": "stdout",
     "output_type": "stream",
     "text": [
      "True\n"
     ]
    }
   ],
   "source": [
    "Ans=issubsetsum(A,n,sum)\n",
    "print(Ans)\n",
    "# TC(sum*n)"
   ]
  },
  {
   "cell_type": "markdown",
   "metadata": {},
   "source": [
    "## Coin Changing Problem\n",
    "###### Given a value N, if we want to make change for N cents, and we have infinite supply of each of S = { S1, S2, .. , Sm} valued coins, how many ways can we make the change"
   ]
  },
  {
   "cell_type": "markdown",
   "metadata": {},
   "source": [
    "### Recursive approach"
   ]
  },
  {
   "cell_type": "code",
   "execution_count": 11,
   "metadata": {},
   "outputs": [],
   "source": [
    "def counts(S,m,n):\n",
    "    if n==0:\n",
    "        return 1\n",
    "    if n<0:\n",
    "        return 0\n",
    "    if n>=1 and m<=0:\n",
    "        return 0\n",
    "    return counts(S,m-1,n)+counts(S,m,n-S[m-1])\n"
   ]
  },
  {
   "cell_type": "code",
   "execution_count": 8,
   "metadata": {},
   "outputs": [],
   "source": [
    "S=[2,5,3,6]"
   ]
  },
  {
   "cell_type": "code",
   "execution_count": 9,
   "metadata": {},
   "outputs": [],
   "source": [
    "N=10\n",
    "m=len(S)"
   ]
  },
  {
   "cell_type": "code",
   "execution_count": 10,
   "metadata": {},
   "outputs": [
    {
     "data": {
      "text/plain": [
       "5"
      ]
     },
     "execution_count": 10,
     "metadata": {},
     "output_type": "execute_result"
    }
   ],
   "source": [
    "counts(S,m,N)"
   ]
  },
  {
   "cell_type": "code",
   "execution_count": 14,
   "metadata": {},
   "outputs": [],
   "source": [
    "def counts(S,m,n):\n",
    "    table=[[0 for i in range(n+1)] for i in range(m)]\n",
    "    for i in range(m):\n",
    "        table[i][0]=1\n",
    "    for i in range(m):\n",
    "        for j in range(1,n+1):\n",
    "            x=table[i][j-S[i]] if j-S[i]>=0 else 0\n",
    "            y=table[i-1][j] if i>=1 else 0\n",
    "            table[i][j]=x+y\n",
    "    return table[m-1][n]        \n",
    "                "
   ]
  },
  {
   "cell_type": "code",
   "execution_count": 15,
   "metadata": {},
   "outputs": [
    {
     "data": {
      "text/plain": [
       "5"
      ]
     },
     "execution_count": 15,
     "metadata": {},
     "output_type": "execute_result"
    }
   ],
   "source": [
    "counts(S,m,N)"
   ]
  },
  {
   "cell_type": "markdown",
   "metadata": {},
   "source": [
    "## TRIES"
   ]
  },
  {
   "cell_type": "code",
   "execution_count": 5,
   "metadata": {},
   "outputs": [],
   "source": [
    "class TrieNode:\n",
    "    def __init__(self):\n",
    "        self.children=[None]*26\n",
    "        self.isEndOfWord=False\n",
    "class Tries:\n",
    "    def __init__(self):\n",
    "        self.root=self.getNode()\n",
    "    def getNode(self):\n",
    "        return TrieNode()\n",
    "    def charToindex(self,ch):\n",
    "        return ord(ch)-ord('a')\n",
    "    def insert(self,key):\n",
    "        pcrawl=self.root\n",
    "        length=len(key)\n",
    "        for level in range(length):\n",
    "            index=self.charToindex(key[level])\n",
    "            if not pcrawl.children[index]:\n",
    "                pcrawl.children[index]=self.getNode()\n",
    "            pcrawl=pcrawl.children[index]\n",
    "        pcrawl.isEndOfWord=True\n",
    "        \n",
    "    def search(self,key):\n",
    "        pcrawl=self.root\n",
    "        length=len(key)\n",
    "        for level in range(length):\n",
    "            index=self.charToindex(key[level])\n",
    "            if not pcrawl.children[index]:\n",
    "                return False\n",
    "            pcrawl=pcrawl.children[index]\n",
    "        return pcrawl!=None and pcrawl.isEndOfWord\n",
    "    \n",
    "        "
   ]
  },
  {
   "cell_type": "code",
   "execution_count": 6,
   "metadata": {},
   "outputs": [],
   "source": [
    "T=Tries()"
   ]
  },
  {
   "cell_type": "code",
   "execution_count": 7,
   "metadata": {},
   "outputs": [
    {
     "data": {
      "text/plain": [
       "False"
      ]
     },
     "execution_count": 7,
     "metadata": {},
     "output_type": "execute_result"
    }
   ],
   "source": [
    "T.search(\"hello\")"
   ]
  },
  {
   "cell_type": "code",
   "execution_count": 8,
   "metadata": {},
   "outputs": [],
   "source": [
    "T.insert(\"bell\")"
   ]
  },
  {
   "cell_type": "code",
   "execution_count": 9,
   "metadata": {},
   "outputs": [],
   "source": [
    "T.insert(\"bid\")"
   ]
  },
  {
   "cell_type": "code",
   "execution_count": 10,
   "metadata": {},
   "outputs": [],
   "source": [
    "T.insert(\"bed\")\n"
   ]
  },
  {
   "cell_type": "code",
   "execution_count": 11,
   "metadata": {},
   "outputs": [],
   "source": [
    "T.insert(\"stock\")"
   ]
  },
  {
   "cell_type": "code",
   "execution_count": 13,
   "metadata": {},
   "outputs": [],
   "source": [
    "T.insert(\"stop\")"
   ]
  },
  {
   "cell_type": "code",
   "execution_count": 14,
   "metadata": {},
   "outputs": [
    {
     "data": {
      "text/plain": [
       "True"
      ]
     },
     "execution_count": 14,
     "metadata": {},
     "output_type": "execute_result"
    }
   ],
   "source": [
    "T.search(\"stock\")"
   ]
  },
  {
   "cell_type": "code",
   "execution_count": 15,
   "metadata": {},
   "outputs": [
    {
     "data": {
      "text/plain": [
       "False"
      ]
     },
     "execution_count": 15,
     "metadata": {},
     "output_type": "execute_result"
    }
   ],
   "source": [
    "T.search(\"be\")"
   ]
  },
  {
   "cell_type": "markdown",
   "metadata": {},
   "source": [
    "## Matrix chain multiplication"
   ]
  },
  {
   "cell_type": "code",
   "execution_count": 19,
   "metadata": {},
   "outputs": [],
   "source": [
    "import sys\n",
    "def matrixmultiplication(p,n):\n",
    "    m=[[0 for i in range(n)]for j in range(n)]\n",
    "    for i in range(1,n):\n",
    "        m[i][i]=0\n",
    "    for l in range(2,n): #l in chain length\n",
    "        for i in range(1,n-l+1):\n",
    "            j=i+l-1\n",
    "            m[i][j]=sys.maxsize\n",
    "            for k in range(i,j):\n",
    "                q=m[i][k]+m[k+1][j]+p[i-1]*p[k]*p[j]\n",
    "                if q<m[i][j]:\n",
    "                    m[i][j]=q\n",
    "    return m               \n",
    "                \n",
    "\n",
    "            \n",
    "            "
   ]
  },
  {
   "cell_type": "code",
   "execution_count": 20,
   "metadata": {},
   "outputs": [
    {
     "data": {
      "text/plain": [
       "[[0, 0, 0, 0], [0, 0, 6, 18], [0, 0, 0, 24], [0, 0, 0, 0]]"
      ]
     },
     "execution_count": 20,
     "metadata": {},
     "output_type": "execute_result"
    }
   ],
   "source": [
    "arr = [1, 2, 3 ,4] \n",
    "size = len(arr) \n",
    "matrixmultiplication(arr,size)"
   ]
  },
  {
   "cell_type": "markdown",
   "metadata": {},
   "source": [
    "## Job Sequencing and deadline(greedy approach)"
   ]
  },
  {
   "cell_type": "code",
   "execution_count": 15,
   "metadata": {},
   "outputs": [],
   "source": [
    "def jobsequence(arr,t):\n",
    "    n=len(arr)\n",
    "    count=0\n",
    "    for i in range(n):\n",
    "        for j in range(n-i-1):\n",
    "            if arr[j][2]<arr[j+1][2]:\n",
    "                arr[j], arr[j+1]=arr[j+1],arr[j]\n",
    "               \n",
    "    result=[False]*t\n",
    "    job=[-1]*t\n",
    "\n",
    "    for i in range(len(arr)):\n",
    "        for j in range(min(t-1, arr[i][1]-1),-1,-1):\n",
    "            if result[j]==False:\n",
    "                result[j]=True\n",
    "                job[j]=arr[i][0]\n",
    "                count+=arr[i][2]\n",
    "                \n",
    "                break\n",
    "    print(job)\n",
    "    print('profit:'+str(count))\n",
    "                \n",
    "                    \n",
    "                    \n",
    "    "
   ]
  },
  {
   "cell_type": "code",
   "execution_count": 16,
   "metadata": {},
   "outputs": [
    {
     "name": "stdout",
     "output_type": "stream",
     "text": [
      "['c', 'a', 'e']\n",
      "profit:142\n"
     ]
    }
   ],
   "source": [
    "arr = [['a', 2, 100], \n",
    "       ['b', 1, 19], \n",
    "       ['c', 2, 27], \n",
    "       ['d', 1, 25], \n",
    "       ['e', 3, 15]]\n",
    "jobsequence(arr,3)"
   ]
  },
  {
   "cell_type": "code",
   "execution_count": null,
   "metadata": {},
   "outputs": [],
   "source": []
  },
  {
   "cell_type": "code",
   "execution_count": null,
   "metadata": {},
   "outputs": [],
   "source": []
  }
 ],
 "metadata": {
  "kernelspec": {
   "display_name": "Python 3",
   "language": "python",
   "name": "python3"
  },
  "language_info": {
   "codemirror_mode": {
    "name": "ipython",
    "version": 3
   },
   "file_extension": ".py",
   "mimetype": "text/x-python",
   "name": "python",
   "nbconvert_exporter": "python",
   "pygments_lexer": "ipython3",
   "version": "3.8.3"
  }
 },
 "nbformat": 4,
 "nbformat_minor": 2
}
